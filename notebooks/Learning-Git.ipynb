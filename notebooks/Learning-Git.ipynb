{
    "metadata": {
        "kernelspec": {
            "name": "powershell",
            "display_name": "PowerShell"
        },
        "language_info": {
            "name": "powershell",
            "codemirror_mode": "shell",
            "mimetype": "text/x-sh",
            "file_extension": ".ps1"
        }
    },
    "nbformat_minor": 2,
    "nbformat": 4,
    "cells": [
        {
            "cell_type": "markdown",
            "source": [
                "# To use this notebook\n",
                "\n",
                "-   Open in Azure Data Studio\n",
                "-   Ensure the Kernel is set to \"PowerShell\""
            ],
            "metadata": {
                "azdata_cell_guid": "6752f25f-aefe-4041-bdd8-b8f7d3eeb33b"
            }
        }
    ]
}